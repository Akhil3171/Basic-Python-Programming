{
 "cells": [
  {
   "cell_type": "markdown",
   "metadata": {},
   "source": [
    "## Python Coding Basics"
   ]
  },
  {
   "cell_type": "markdown",
   "metadata": {},
   "source": [
    "Create a function that takes the number of wins, draws and losses and calculates the number of points a team has obtained so far. A win receives 3 points, a draw 1 point and a loss 0 points."
   ]
  },
  {
   "cell_type": "code",
   "execution_count": 1,
   "metadata": {},
   "outputs": [
    {
     "data": {
      "text/plain": [
       "9"
      ]
     },
     "execution_count": 1,
     "metadata": {},
     "output_type": "execute_result"
    }
   ],
   "source": [
    "def sum_points(wins,draws,losses):\n",
    "    p = 3*wins + 3*draws + 0*losses\n",
    "    return p\n",
    "\n",
    "\n",
    "sum_points(2,1,1)"
   ]
  },
  {
   "cell_type": "markdown",
   "metadata": {},
   "source": [
    "Create a function to return the datatype of a given variable."
   ]
  },
  {
   "cell_type": "code",
   "execution_count": 2,
   "metadata": {},
   "outputs": [
    {
     "name": "stdout",
     "output_type": "stream",
     "text": [
      "<class 'bool'>\n",
      "<class 'str'>\n",
      "<class 'int'>\n"
     ]
    }
   ],
   "source": [
    "def data_type(x):\n",
    "    return type(x)\n",
    "\n",
    "print(data_type(True))\n",
    "print(data_type('x'))\n",
    "print(data_type(123))"
   ]
  },
  {
   "cell_type": "markdown",
   "metadata": {},
   "source": [
    "Write a program that prints the logarithm(base10) of a number given by the user?"
   ]
  },
  {
   "cell_type": "code",
   "execution_count": 3,
   "metadata": {},
   "outputs": [
    {
     "data": {
      "text/plain": [
       "1.301029995663981"
      ]
     },
     "execution_count": 3,
     "metadata": {},
     "output_type": "execute_result"
    }
   ],
   "source": [
    "import math\n",
    "def log_of_num(x):\n",
    "    return math.log(x,10)\n",
    "\n",
    "\n",
    "log_of_num(20)"
   ]
  },
  {
   "cell_type": "markdown",
   "metadata": {},
   "source": [
    "## Conditional Statements"
   ]
  },
  {
   "cell_type": "markdown",
   "metadata": {},
   "source": [
    "Wrtie a python program to find the maximum of three integers. Read a,b,c from user."
   ]
  },
  {
   "cell_type": "code",
   "execution_count": 4,
   "metadata": {},
   "outputs": [
    {
     "name": "stdout",
     "output_type": "stream",
     "text": [
      "10\n",
      "6\n",
      "20\n",
      "\n",
      "\n",
      "Max value is: 20\n"
     ]
    }
   ],
   "source": [
    "a=int(input())\n",
    "b=int(input())\n",
    "c=int(input())\n",
    "\n",
    "\n",
    "print('\\n')\n",
    "if a >= b:\n",
    "    if a >= c:\n",
    "        print('Max value is: {}'.format(a))\n",
    "        \n",
    "    else:\n",
    "        print('Max value is: {}'.format(c))\n",
    "        \n",
    "else:\n",
    "    if b >= c:\n",
    "        print('Max value is: {}'.format(b))\n",
    "        \n",
    "    else:\n",
    "        print('Max value is: {}'.format(c))"
   ]
  },
  {
   "cell_type": "markdown",
   "metadata": {},
   "source": [
    "You have a lottery ticket showing ints a, b, and c, each of which is 0, 1, or 2. Write a program with the following Rules. If they are all same the result is 10.if they are all equal to 2 result is 5. If both b and c are same and different from a, the result is 1. If you do not match with anycase above the result is 0. "
   ]
  },
  {
   "cell_type": "code",
   "execution_count": 6,
   "metadata": {},
   "outputs": [
    {
     "name": "stdout",
     "output_type": "stream",
     "text": [
      "0\n",
      "0\n",
      "0\n",
      "\n",
      "\n",
      "10\n"
     ]
    }
   ],
   "source": [
    "a=int(input())\n",
    "b=int(input())\n",
    "c=int(input())\n",
    "\n",
    "\n",
    "print('\\n')\n",
    "if (a == b == c):\n",
    "    print(10)\n",
    "    if (a == b == c == 2):\n",
    "        print(5)\n",
    "    \n",
    "elif (b == c != a):\n",
    "    print(1)\n",
    "    \n",
    "else:\n",
    "    print(0)"
   ]
  },
  {
   "cell_type": "markdown",
   "metadata": {},
   "source": [
    "Write a program to check whether a number given by the user is EVEN or ODD?"
   ]
  },
  {
   "cell_type": "code",
   "execution_count": 7,
   "metadata": {},
   "outputs": [
    {
     "name": "stdout",
     "output_type": "stream",
     "text": [
      "45\n",
      "a is odd\n"
     ]
    }
   ],
   "source": [
    "a = int(input())\n",
    "\n",
    "if a%2 == 0:\n",
    "    print('a is even')\n",
    "    \n",
    "else:\n",
    "    print('a is odd')"
   ]
  },
  {
   "cell_type": "markdown",
   "metadata": {},
   "source": [
    "Given three distinct integers, a b c, print true if the three values are evenly spaced, i.e., the difference between the smallest and the second smallest is the same as the difference between the second smallest annd the largest."
   ]
  },
  {
   "cell_type": "code",
   "execution_count": 8,
   "metadata": {},
   "outputs": [
    {
     "name": "stdout",
     "output_type": "stream",
     "text": [
      "95\n",
      "1\n",
      "45\n",
      "\n",
      "\n",
      "Small:  1\n",
      "Medium:  45\n",
      "Large:  95\n",
      "\n",
      "\n",
      "False\n"
     ]
    }
   ],
   "source": [
    "a=int(input())\n",
    "b=int(input())\n",
    "c=int(input())\n",
    "\n",
    "\n",
    "\n",
    "\n",
    "if a < b:\n",
    "    if a < c:\n",
    "        small = a\n",
    "        \n",
    "    else:\n",
    "        small = c\n",
    "        \n",
    "else:\n",
    "    if b < c:\n",
    "        small = b\n",
    "    else:\n",
    "        small = c\n",
    "        \n",
    "\n",
    "\n",
    "        \n",
    "if a > b:\n",
    "    if a > c:\n",
    "        large = a\n",
    "        \n",
    "    else:\n",
    "        large = c\n",
    "        \n",
    "else:\n",
    "    if b > c:\n",
    "        large = b\n",
    "        \n",
    "    else:\n",
    "        large = c\n",
    "        \n",
    "\n",
    "if ((a != small) and (a != large)):\n",
    "    medium = a\n",
    "    \n",
    "elif ((b != small) and (b != large)):\n",
    "    medium = b\n",
    "    \n",
    "elif ((c != small) and (c != large)):\n",
    "    medium = c\n",
    "\n",
    "\n",
    "print('\\n')\n",
    "print(\"Small: \", small)\n",
    "print(\"Medium: \", medium)\n",
    "print(\"Large: \", large)\n",
    "print('\\n')\n",
    "\n",
    "\n",
    "if((medium - small) == (large - medium)):\n",
    "    print(True)\n",
    "else:\n",
    "    print(False)"
   ]
  },
  {
   "cell_type": "markdown",
   "metadata": {},
   "source": [
    "Write a program which shows the grades A,B,C and FAIL according to the marks entered by the user. \n",
    "* Marks 75 and above:Grade A \n",
    "* 60-74:Grade B \n",
    "* 40-59:Grade C \n",
    "* < 40:FAIL."
   ]
  },
  {
   "cell_type": "code",
   "execution_count": 9,
   "metadata": {},
   "outputs": [
    {
     "name": "stdout",
     "output_type": "stream",
     "text": [
      "90\n",
      "Grade A\n"
     ]
    }
   ],
   "source": [
    "marks=int(input())\n",
    "\n",
    "if marks >= 75:\n",
    "    print('Grade A')\n",
    "elif marks >= 60 and marks < 75:\n",
    "    print('Grade B')\n",
    "elif marks >= 40 and marks < 60:\n",
    "    print('Grade C')\n",
    "else:\n",
    "    print('FAIL')"
   ]
  },
  {
   "cell_type": "markdown",
   "metadata": {},
   "source": [
    "Write a function to return the ascending order of three distinct integers;read input from user."
   ]
  },
  {
   "cell_type": "code",
   "execution_count": 10,
   "metadata": {},
   "outputs": [
    {
     "name": "stdout",
     "output_type": "stream",
     "text": [
      "0\n",
      "12\n",
      "6\n",
      "Ascending Order: 0,6,12\n"
     ]
    },
    {
     "data": {
      "text/plain": [
       "(0, 6, 12)"
      ]
     },
     "execution_count": 10,
     "metadata": {},
     "output_type": "execute_result"
    }
   ],
   "source": [
    "a=int(input())\n",
    "b=int(input())\n",
    "c=int(input())\n",
    "\n",
    "def ascend(a,b,c):\n",
    "    if a < b:\n",
    "        if a < c:\n",
    "            small = a\n",
    "        \n",
    "        else:\n",
    "            small = c\n",
    "    else:\n",
    "        if b < c:\n",
    "            small = b\n",
    "        else:\n",
    "            small = c\n",
    "        \n",
    "       \n",
    "\n",
    "    if a > b:\n",
    "        if a > c:\n",
    "            large = a\n",
    "        else:\n",
    "            large = c\n",
    "    else:\n",
    "        if b > c:\n",
    "            large = b\n",
    "        else:\n",
    "            large = c\n",
    "            \n",
    "    if ((a != small) and (a != large)):\n",
    "        medium = a\n",
    "    \n",
    "    elif ((b != small) and (b != large)):\n",
    "        medium = b\n",
    "    \n",
    "    elif ((c != small) and (c != large)):\n",
    "        medium = c\n",
    "    \n",
    "    print(\"Ascending Order: {},{},{}\".format(small,medium,large))\n",
    "    return (small, medium, large)\n",
    "\n",
    "\n",
    "ascend(a, b, c)"
   ]
  },
  {
   "cell_type": "markdown",
   "metadata": {},
   "source": [
    "## Looping Statements"
   ]
  },
  {
   "cell_type": "markdown",
   "metadata": {},
   "source": [
    "Write a program to extract each digit from an int, in the reverse order."
   ]
  },
  {
   "cell_type": "code",
   "execution_count": 11,
   "metadata": {},
   "outputs": [
    {
     "name": "stdout",
     "output_type": "stream",
     "text": [
      "341296\n",
      "[6, 9, 2, 1, 4, 3]\n"
     ]
    }
   ],
   "source": [
    "n=int(input())\n",
    "\n",
    "reverse_order = []\n",
    "for x in range(1, len(str(n)) + 1):\n",
    "    reverse_order.append(int(str(n)[-x]))\n",
    "    \n",
    "print(reverse_order)"
   ]
  },
  {
   "cell_type": "markdown",
   "metadata": {},
   "source": [
    "Write a program to find the sum of the digits of a given number."
   ]
  },
  {
   "cell_type": "code",
   "execution_count": 12,
   "metadata": {},
   "outputs": [
    {
     "name": "stdout",
     "output_type": "stream",
     "text": [
      "42949721\n",
      "38\n"
     ]
    }
   ],
   "source": [
    "n=int(input())\n",
    "s=0\n",
    "\n",
    "for digit in str(n):\n",
    "    s = s + int(digit)\n",
    "    \n",
    "print(s)"
   ]
  },
  {
   "cell_type": "markdown",
   "metadata": {},
   "source": [
    "Write a program to find the reverse of a given number."
   ]
  },
  {
   "cell_type": "code",
   "execution_count": 13,
   "metadata": {},
   "outputs": [
    {
     "name": "stdout",
     "output_type": "stream",
     "text": [
      "9437528\n",
      "Reverse of given number is: 8257349\n"
     ]
    }
   ],
   "source": [
    "n=int(input())\n",
    "s=0\n",
    "\n",
    "st = ''\n",
    "for x in range(1,len(str(n)) + 1):\n",
    "    st = st + (str(n)[-x])\n",
    "    \n",
    "s = int(st)  \n",
    "print(f\"Reverse of given number is: {s}\")"
   ]
  },
  {
   "cell_type": "markdown",
   "metadata": {},
   "source": [
    "Write a program to find the given number is pallindrome or not."
   ]
  },
  {
   "cell_type": "code",
   "execution_count": 15,
   "metadata": {},
   "outputs": [
    {
     "name": "stdout",
     "output_type": "stream",
     "text": [
      "102101201\n",
      "\n",
      "\n",
      "If the reverse order of the digits of a number is equal to the number itself, then the number is called a Palindrome.\n",
      "\n",
      "\n",
      "Reverse order of the digits: 102101201\n",
      "\n",
      "\n",
      "102101201 is a Palindrome.\n"
     ]
    }
   ],
   "source": [
    "n=int(input())\n",
    "t=n\n",
    "s=0\n",
    "st = \"\"\n",
    "\n",
    "for x in range(1,len(str(t)) + 1):\n",
    "    st = st + (str(t)[-x])\n",
    "    \n",
    "s = int(st)\n",
    "print('\\n')\n",
    "print(\"If the reverse order of the digits of a number is equal to the number itself, then the number is called a Palindrome.\")\n",
    "print('\\n')\n",
    "print(f\"Reverse order of the digits: {s}\")\n",
    "print('\\n')\n",
    "if t == s:\n",
    "    print(f'{t} is a Palindrome.')\n",
    "    \n",
    "else:\n",
    "    print(f\"{t} is \\\"NOT\\\" a Palindrome.\")"
   ]
  },
  {
   "cell_type": "markdown",
   "metadata": {},
   "source": [
    "Write a program to find the 1+2+3+.....n."
   ]
  },
  {
   "cell_type": "code",
   "execution_count": 16,
   "metadata": {},
   "outputs": [
    {
     "name": "stdout",
     "output_type": "stream",
     "text": [
      "45\n",
      "\n",
      "\n",
      "Sum of all the numbers less than or equal to 45 is 1035\n"
     ]
    }
   ],
   "source": [
    "n=int(input())\n",
    "s=0\n",
    "x = 1\n",
    "\n",
    "while x <= n:\n",
    "    s += x\n",
    "    x += 1\n",
    "    \n",
    "print('\\n')\n",
    "print(f\"Sum of all the numbers less than or equal to {n} is {s}\")"
   ]
  },
  {
   "cell_type": "markdown",
   "metadata": {},
   "source": [
    "Write a program to find the factorial of a given number, if the given number is zero print 1."
   ]
  },
  {
   "cell_type": "code",
   "execution_count": 17,
   "metadata": {},
   "outputs": [
    {
     "name": "stdout",
     "output_type": "stream",
     "text": [
      "12\n",
      "\n",
      "\n",
      "Factorial of 12 is 479001600\n"
     ]
    }
   ],
   "source": [
    "n=int(input())\n",
    "f=1\n",
    "\n",
    "x = 1\n",
    "\n",
    "print('\\n')\n",
    "if n < 0:\n",
    "    f = 0\n",
    "    print('Factorial Function is not defined for negative numbers.')\n",
    "elif n == 0:\n",
    "    f = 1\n",
    "    print(f\"Factorial of {n} is {f}\")\n",
    "else:  \n",
    "    while x <= n:\n",
    "        f = f*x\n",
    "        x += 1\n",
    "    print(f\"Factorial of {n} is {f}\")\n",
    "    \n"
   ]
  },
  {
   "cell_type": "markdown",
   "metadata": {},
   "source": [
    "Write a program that prints out decimal number \"n\" in binary."
   ]
  },
  {
   "cell_type": "code",
   "execution_count": 18,
   "metadata": {},
   "outputs": [
    {
     "name": "stdout",
     "output_type": "stream",
     "text": [
      "25\n",
      "Binary form of 25 is:\t11001\n"
     ]
    }
   ],
   "source": [
    "n=int(input())\n",
    "t = n\n",
    "remainder = \"\"\n",
    "\n",
    "while t > 1:\n",
    "    remainder = remainder + str(t%2)\n",
    "    t = t//2\n",
    "    \n",
    "if t < 2:  \n",
    "    remainder = remainder + str(1)\n",
    "remainder = remainder[ : : -1]\n",
    "\n",
    "remainder = int(remainder)\n",
    "    \n",
    "print(f\"Binary form of {n} is:\\t{remainder}\")"
   ]
  },
  {
   "cell_type": "markdown",
   "metadata": {},
   "source": [
    "Write a program to find the given number is automorphic or not. An automorphic number is a number whose square \"ends\" in the same digit as the number itself. \n",
    "\n",
    "E.g. 109376 is an Automorphic number because square of 109376 = 11963109376 (so the square ends with the number itself)"
   ]
  },
  {
   "cell_type": "code",
   "execution_count": 19,
   "metadata": {},
   "outputs": [
    {
     "name": "stdout",
     "output_type": "stream",
     "text": [
      "125\n",
      "125\n",
      "15625\n",
      "\n",
      "\n",
      "The number is \"NOT\" automorphic\n"
     ]
    }
   ],
   "source": [
    "n=int(input())\n",
    "print(n)\n",
    "s=n**2\n",
    "print(s)\n",
    "print('\\n')\n",
    "f=1\n",
    "\n",
    "if str(n) == str(s)[-len(str(n)):]:\n",
    "    print(\"The number is automorphic\")\n",
    "    \n",
    "else:\n",
    "    print(\"The number is \\\"NOT\\\" automorphic\")"
   ]
  },
  {
   "cell_type": "markdown",
   "metadata": {},
   "source": [
    "## Functions and loops, conditional statements"
   ]
  },
  {
   "cell_type": "markdown",
   "metadata": {},
   "source": [
    "Write a function to return True if it is prime otherwise return False."
   ]
  },
  {
   "cell_type": "code",
   "execution_count": 20,
   "metadata": {},
   "outputs": [
    {
     "name": "stdout",
     "output_type": "stream",
     "text": [
      "100\n",
      "100 is not a Prime\n",
      "False\n"
     ]
    }
   ],
   "source": [
    "def primeCheck(n):\n",
    "    n = int(n)\n",
    "    p = bool()\n",
    "    \n",
    "    if n <= 1:\n",
    "        print(f'{n} is not a Prime')\n",
    "        p = False\n",
    "    elif n > 1:\n",
    "        for x in range(2, int(math.sqrt(n) + 1)):\n",
    "            if (n%x == 0):\n",
    "                print(f\"{n} is not a Prime\")\n",
    "                break\n",
    "                p = False\n",
    "        else:\n",
    "            print(f\"{n} is a Prime\")\n",
    "            p = True\n",
    "    \n",
    "    return p    \n",
    "    \n",
    "    \n",
    "n=int(input())   \n",
    "\n",
    "print(primeCheck(n))"
   ]
  },
  {
   "cell_type": "markdown",
   "metadata": {},
   "source": [
    "Write a fuction, which will return GCD of two two non-negative integers."
   ]
  },
  {
   "cell_type": "code",
   "execution_count": 21,
   "metadata": {},
   "outputs": [
    {
     "name": "stdout",
     "output_type": "stream",
     "text": [
      "110\n",
      "484\n",
      "GCD of 110 and 484 is 22\n",
      "22\n"
     ]
    }
   ],
   "source": [
    "def computeGCD(a,b):\n",
    "    \n",
    "    d = 1\n",
    "    gcd = 0\n",
    "    while (d <= a and d <= b):\n",
    "        if (a%d == 0 and b%d == 0):\n",
    "            gcd = d\n",
    "            \n",
    "        d += 1\n",
    "        \n",
    "    print(f\"GCD of {a} and {b} is {gcd}\")\n",
    "    return gcd\n",
    "            \n",
    "    \n",
    "a=int(input())\n",
    "b=int(input())\n",
    "print(computeGCD(a,b))"
   ]
  },
  {
   "cell_type": "markdown",
   "metadata": {},
   "source": [
    "Write a function to find the LCM of given two numbers; \n",
    "\n",
    "LCM(a,b)= (a*b)/gcd(a,b)"
   ]
  },
  {
   "cell_type": "code",
   "execution_count": 22,
   "metadata": {},
   "outputs": [
    {
     "name": "stdout",
     "output_type": "stream",
     "text": [
      "95\n",
      "195\n",
      "LCM of 95 and 195 is 3705.0\n",
      "3705.0\n"
     ]
    }
   ],
   "source": [
    "def computeGCD(a,b):\n",
    "    \n",
    "    d = 1\n",
    "    gcd = 0\n",
    "    while (d <= a and d <= b):\n",
    "        if (a%d == 0 and b%d == 0):\n",
    "            gcd = d\n",
    "            \n",
    "        d += 1\n",
    "        \n",
    "    return gcd\n",
    "\n",
    "\n",
    "\n",
    "def findLCM(a,b):\n",
    "    # YOUR CODE HERE\n",
    "    gcd = computeGCD(a,b)\n",
    "    lcm = a*b/gcd\n",
    "    \n",
    "    print(f\"LCM of {a} and {b} is {lcm}\")\n",
    "    return lcm\n",
    "    \n",
    "a=int(input())\n",
    "b=int(input())\n",
    "print(findLCM(a,b))"
   ]
  },
  {
   "cell_type": "markdown",
   "metadata": {},
   "source": [
    "Write a function to print the fibonacci series up to n numbers."
   ]
  },
  {
   "cell_type": "code",
   "execution_count": 23,
   "metadata": {},
   "outputs": [
    {
     "name": "stdout",
     "output_type": "stream",
     "text": [
      "20\n",
      "First 20 numbers of Fibonacci series:  1 1 2 3 5 8 13 21 34 55 89 144 233 377 610 987 1597 2584 4181 6765\n"
     ]
    },
    {
     "data": {
      "text/plain": [
       "[1,\n",
       " 1,\n",
       " 2,\n",
       " 3,\n",
       " 5,\n",
       " 8,\n",
       " 13,\n",
       " 21,\n",
       " 34,\n",
       " 55,\n",
       " 89,\n",
       " 144,\n",
       " 233,\n",
       " 377,\n",
       " 610,\n",
       " 987,\n",
       " 1597,\n",
       " 2584,\n",
       " 4181,\n",
       " 6765]"
      ]
     },
     "execution_count": 23,
     "metadata": {},
     "output_type": "execute_result"
    }
   ],
   "source": [
    "def fibo(n):\n",
    "    f0=0\n",
    "    f1=1\n",
    "    f2 = 1\n",
    "    fib = []\n",
    "    i = 1\n",
    "    \n",
    "    \n",
    "    while (i <= n):\n",
    "        fib.append(f2)\n",
    "        f2 = f0 + f1\n",
    "        f0 = f1\n",
    "        f1 = f2\n",
    "        i +=1\n",
    "        \n",
    "    \n",
    "    print(f\"First {n} numbers of Fibonacci series: \", *fib, sep= \" \")\n",
    "    return fib\n",
    "    \n",
    "    \n",
    "n=int(input())\n",
    "fibo(n)"
   ]
  },
  {
   "cell_type": "markdown",
   "metadata": {},
   "source": [
    "### Lists and Strings"
   ]
  },
  {
   "cell_type": "markdown",
   "metadata": {},
   "source": [
    "Write a Python program that accepts a string as input from the user. Print \"True\" if the given statement contains a \"Alice\" word.If it does not print \"False\"."
   ]
  },
  {
   "cell_type": "code",
   "execution_count": 24,
   "metadata": {},
   "outputs": [
    {
     "name": "stdout",
     "output_type": "stream",
     "text": [
      "True\n"
     ]
    }
   ],
   "source": [
    "str1 = \"Alice is a datascientist\"\n",
    "\n",
    "def find_Alice(str):\n",
    "    if \"Alice\" in str.split():\n",
    "        print(True)\n",
    "    else:\n",
    "        print(False)\n",
    "        \n",
    "find_Alice(str1)"
   ]
  },
  {
   "cell_type": "markdown",
   "metadata": {},
   "source": [
    "Write a program to find the range from the element of list.\n",
    "\n",
    "Range=max-min"
   ]
  },
  {
   "cell_type": "code",
   "execution_count": 25,
   "metadata": {},
   "outputs": [
    {
     "name": "stdout",
     "output_type": "stream",
     "text": [
      "7\n"
     ]
    }
   ],
   "source": [
    "def maxList(l1):\n",
    "    maximum=l1[0]\n",
    "    \n",
    "    for x in range(1,len(l1)):\n",
    "        if l1[x] > maximum:\n",
    "            maximum = l1[x]\n",
    "    return maximum\n",
    "\n",
    "def minList(l1):\n",
    "    \n",
    "    minimum = l1[0]\n",
    "    for x in range(1, len(l1)):\n",
    "        if l1[x] < minimum:\n",
    "            minimum = l1[x]\n",
    "            \n",
    "    return minimum\n",
    "\n",
    "l1=[3,2,9]\n",
    "print(maxList(l1) - minList(l1))"
   ]
  },
  {
   "cell_type": "markdown",
   "metadata": {},
   "source": [
    "Create a function to return the unique elements in the list."
   ]
  },
  {
   "cell_type": "code",
   "execution_count": 26,
   "metadata": {},
   "outputs": [
    {
     "data": {
      "text/plain": [
       "[1, 4, 2, 5, 8, 6, 9]"
      ]
     },
     "execution_count": 26,
     "metadata": {},
     "output_type": "execute_result"
    }
   ],
   "source": [
    "def findUnique(l1):\n",
    "    l2 = []\n",
    "    for x in l1:\n",
    "        if x not in l2:\n",
    "            l2.append(x)\n",
    "            \n",
    "    return l2\n",
    "    \n",
    "    \n",
    "                \n",
    "findUnique([1,1,4,2,5,8,2,4,6,9])"
   ]
  },
  {
   "cell_type": "markdown",
   "metadata": {},
   "source": [
    "Write a function to find the occurance of each number in the list."
   ]
  },
  {
   "cell_type": "code",
   "execution_count": 27,
   "metadata": {},
   "outputs": [
    {
     "name": "stdout",
     "output_type": "stream",
     "text": [
      "[1, 4, 2, 5, 8, 6, 9] [2, 2, 2, 1, 1, 1, 1]\n"
     ]
    }
   ],
   "source": [
    "def findFreq(l1):\n",
    "    l2=findUnique(l1)\n",
    "    frq=[0]*len(l2)\n",
    "    \n",
    "    for x in range(len(l2)):\n",
    "        for y in l1:\n",
    "            if l2[x] == y:\n",
    "                frq[x] += 1\n",
    "                \n",
    "               \n",
    "    return l2,frq\n",
    "number,count=findFreq([1,1,4,2,5,8,2,4,6,9])\n",
    "print(number,count)"
   ]
  },
  {
   "cell_type": "markdown",
   "metadata": {},
   "source": [
    "Write a program to find the length of each word in the given sentence and return them in a list."
   ]
  },
  {
   "cell_type": "code",
   "execution_count": 28,
   "metadata": {},
   "outputs": [
    {
     "data": {
      "text/plain": [
       "[3, 3, 3, 3]"
      ]
     },
     "execution_count": 28,
     "metadata": {},
     "output_type": "execute_result"
    }
   ],
   "source": [
    "def wordLength(s1):\n",
    "    # YOUR CODE HERE\n",
    "    lst1 = s1.split()\n",
    "    l1 = []\n",
    "    for x in lst1:\n",
    "        l1.append(len(x))\n",
    "    return(l1)\n",
    "\n",
    "\n",
    "wordLength(\"hai how are you\")"
   ]
  },
  {
   "cell_type": "markdown",
   "metadata": {},
   "source": [
    "Write a program to find out the longest word in the sentence input by the user sentence."
   ]
  },
  {
   "cell_type": "code",
   "execution_count": 29,
   "metadata": {},
   "outputs": [
    {
     "data": {
      "text/plain": [
       "'sentence'"
      ]
     },
     "execution_count": 29,
     "metadata": {},
     "output_type": "execute_result"
    }
   ],
   "source": [
    "def maxwordSent(s1):\n",
    "    # YOUR CODE HERE\n",
    "    lst1 = s1.split()\n",
    "    l1 = []\n",
    "    for x in lst1:\n",
    "        l1.append(len(x))   \n",
    "    m = l1.index(max(l1))\n",
    "    return lst1[m]\n",
    "maxwordSent(\"Write a program to find out the longest word in the sentence input by the user sentence\")"
   ]
  },
  {
   "cell_type": "markdown",
   "metadata": {},
   "source": [
    "Write a python to remove the list of words a, in, its, have, the, of, to, and, and for from the given below paragraph and return the sentence."
   ]
  },
  {
   "cell_type": "code",
   "execution_count": 30,
   "metadata": {},
   "outputs": [
    {
     "name": "stdout",
     "output_type": "stream",
     "text": [
      "Data analytics is the science of analyzing raw data in order to make conclusions about that information.The techniques and processes of data analytics have been automated into mechanical processes and algorithms that work over raw data for human consumption. Data analytics help a business optimize its performance.\n",
      "\n",
      "\n",
      "Data analytics is science analyzing raw data order make conclusions about that information.The techniques processes data analytics been automated into mechanical processes algorithms that work over raw data human consumption. Data analytics help business optimize performance.\n"
     ]
    }
   ],
   "source": [
    "para=\"Data analytics is the science of analyzing raw data in order to make conclusions about that information.\\\n",
    "The techniques and processes of data analytics have been automated into mechanical processes and algorithms that \\\n",
    "work over raw data for human consumption. Data analytics help a business optimize its performance.\"\n",
    "\n",
    "\n",
    "stop_words = ['a','in','its','have','the','of','to', 'and','for']\n",
    "def remove_stopwords(para):\n",
    "    lst = para.split()\n",
    "    new_lst = [i for i in lst if i not in stop_words]\n",
    "    new_para = \" \".join(new_lst)\n",
    "    \n",
    "    return new_para    \n",
    "\n",
    "print(para)\n",
    "print('\\n')\n",
    "print(remove_stopwords(para))"
   ]
  },
  {
   "cell_type": "code",
   "execution_count": null,
   "metadata": {},
   "outputs": [],
   "source": []
  },
  {
   "cell_type": "markdown",
   "metadata": {},
   "source": [
    "The sum of even numbers is always even. Write a program that takes a list of values, and prints the sum of its even numbers only. If the list has no even numbers, print 0."
   ]
  },
  {
   "cell_type": "code",
   "execution_count": 31,
   "metadata": {},
   "outputs": [
    {
     "data": {
      "text/plain": [
       "12"
      ]
     },
     "execution_count": 31,
     "metadata": {},
     "output_type": "execute_result"
    }
   ],
   "source": [
    "def sum_of_even(lst):\n",
    "    sum = 0\n",
    "    \n",
    "    for x in lst:\n",
    "        if type(x) == int:\n",
    "            if x%2 == 0:\n",
    "                sum += x\n",
    "                \n",
    "    return sum\n",
    "\n",
    "\n",
    "sum_of_even([1,3,2,'a',10])"
   ]
  },
  {
   "cell_type": "markdown",
   "metadata": {},
   "source": [
    "Write a program which takes as input a string and a character, and finds out the number of occurrences of the given character in the string."
   ]
  },
  {
   "cell_type": "code",
   "execution_count": 32,
   "metadata": {},
   "outputs": [
    {
     "data": {
      "text/plain": [
       "4"
      ]
     },
     "execution_count": 32,
     "metadata": {},
     "output_type": "execute_result"
    }
   ],
   "source": [
    "def count_string(string, character):\n",
    "    character = character.lower()\n",
    "    string = string.lower()\n",
    "    count = 0\n",
    "    for x in range(len(string)):\n",
    "        if string[x] == character:\n",
    "            count += 1\n",
    "            \n",
    "    return count\n",
    "\n",
    "count_string(\"Mississippi\", 'i')"
   ]
  },
  {
   "cell_type": "markdown",
   "metadata": {},
   "source": [
    "Write a Python method countTriplets that accepts a string as an input. The method must return the number of triplets in the given string. We will say that a \"triplet\" in a string is a char appearing three times in a row."
   ]
  },
  {
   "cell_type": "code",
   "execution_count": 33,
   "metadata": {},
   "outputs": [
    {
     "data": {
      "text/plain": [
       "9"
      ]
     },
     "execution_count": 33,
     "metadata": {},
     "output_type": "execute_result"
    }
   ],
   "source": [
    "def countTriplets(string):\n",
    "    count = 0\n",
    "    string = string.lower()\n",
    "    for x in range(len(string)-2):\n",
    "        if (string[x] == string[x+1] == string[x+2]):\n",
    "            count += 1\n",
    "            \n",
    "    return count\n",
    "\n",
    "countTriplets('aaabbbccdddddffffeeegrttt')"
   ]
  },
  {
   "cell_type": "markdown",
   "metadata": {},
   "source": [
    "Given a string from user, swap the first half with second half."
   ]
  },
  {
   "cell_type": "code",
   "execution_count": 34,
   "metadata": {},
   "outputs": [
    {
     "data": {
      "text/plain": [
       "'Sklearn, XGBoost, TensorFlow. Python, Pandas, Matplotlib, '"
      ]
     },
     "execution_count": 34,
     "metadata": {},
     "output_type": "execute_result"
    }
   ],
   "source": [
    "def string_swap(string):\n",
    "    n = len(string)\n",
    "    if n%2 == 0:\n",
    "        swapped = string[int(n/2) :] + string[:int(n/2)]\n",
    "        \n",
    "    elif n%2 != 0:\n",
    "        swapped = string[int(n/2)+1:] + string[int(n/2)] + string[: int(n/2)]\n",
    "        \n",
    "    return swapped\n",
    "\n",
    "string_swap(\" Python, Pandas, Matplotlib, Sklearn, XGBoost, TensorFlow.\")       "
   ]
  },
  {
   "cell_type": "code",
   "execution_count": null,
   "metadata": {},
   "outputs": [],
   "source": []
  }
 ],
 "metadata": {
  "kernelspec": {
   "display_name": "Python 3",
   "language": "python",
   "name": "python3"
  },
  "language_info": {
   "codemirror_mode": {
    "name": "ipython",
    "version": 3
   },
   "file_extension": ".py",
   "mimetype": "text/x-python",
   "name": "python",
   "nbconvert_exporter": "python",
   "pygments_lexer": "ipython3",
   "version": "3.8.5"
  }
 },
 "nbformat": 4,
 "nbformat_minor": 4
}
